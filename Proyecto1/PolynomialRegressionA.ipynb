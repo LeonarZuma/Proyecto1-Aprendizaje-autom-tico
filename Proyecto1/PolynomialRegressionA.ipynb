{
 "cells": [
  {
   "cell_type": "code",
   "execution_count": 144,
   "source": [
    "import numpy as np,matplotlib.pyplot as plt"
   ],
   "outputs": [],
   "metadata": {}
  },
  {
   "cell_type": "markdown",
   "source": [
    "## Proponemos la siguiente ecuación para generar la polinomial\r\n",
    "$y = 9 + 7x + 5x^2$\r\n",
    "\r\n",
    "Le agregaremos un cuarto elemento $\\epsilon$ que será un vector de errores aleatorios"
   ],
   "metadata": {}
  },
  {
   "cell_type": "code",
   "execution_count": 145,
   "source": [
    "m = 10000 # número de muestras\r\n",
    "X = 4 * np.random.rand(m,1)\r\n",
    "y = 9 + 7 * X + 5 * (X**2)+ 1.5*np.random.randn(m,1)"
   ],
   "outputs": [],
   "metadata": {}
  },
  {
   "cell_type": "markdown",
   "source": [
    "Gráficamos los resultados para observar nuestra nube de puntos"
   ],
   "metadata": {}
  },
  {
   "cell_type": "code",
   "execution_count": 146,
   "source": [
    "plt.plot(X,y,\"b.\") \r\n",
    "plt.xlabel(r'$X_1$',fontsize=14)\r\n",
    "plt.ylabel(r'$Y$',fontsize=14,rotation=0)\r\n",
    "plt.axis([0,4,0,125])\r\n",
    "plt.grid(True)\r\n",
    "plt.show()"
   ],
   "outputs": [
    {
     "output_type": "display_data",
     "data": {
      "image/png": "[encoded data removed]",
      "text/plain": [
       "<Figure size 432x288 with 1 Axes>"
      ]
     },
     "metadata": {
      "needs_background": "light"
     }
    }
   ],
   "metadata": {}
  },
  {
   "cell_type": "markdown",
   "source": [
    "Con ayuda de las librerias de sklearn, dividimos el dataset en entrenamiento y prueba (80 y 20 respectivamente). "
   ],
   "metadata": {}
  },
  {
   "cell_type": "code",
   "execution_count": 182,
   "source": [
    "from sklearn.model_selection import train_test_split\r\n",
    "X_train,X_test,y_train,y_test = train_test_split(X,y,test_size=0.20, random_state=50)"
   ],
   "outputs": [],
   "metadata": {}
  },
  {
   "cell_type": "markdown",
   "source": [
    "## Para hallar los valores de $\\theta$ debemos desarrollar la misma ecuación que en el caso de la regresión lineal\r\n",
    "Esta es la ecuación para estimar el vector de coeficientes\r\n",
    "### $\\theta = (X^TX)^{-1}X^Ty$\r\n",
    "\r\n",
    "<br>La diferencia fundamental esta en la matriz de valores X<br>\r\n",
    "$\\begin{bmatrix}\r\n",
    "1 & x_1 & x_1^2 & ... & x_1^m\\\\\r\n",
    "1 & x_2 & x_2^2 & ... & x_2^m\\\\\r\n",
    "1 & x_3 & x_3^2 & ... & x_3^m\\\\\r\n",
    "...&...&...&...&...\\\\\r\n",
    "1 & x_n & x_n^2 & ... & x_n^m\\\\\r\n",
    "\\end{bmatrix}$"
   ],
   "metadata": {}
  },
  {
   "cell_type": "markdown",
   "source": [
    "## Si los valores de X estuviesen en un intervalo menor, del rango de [0,1], observamos una diferencia en los resultados."
   ],
   "metadata": {}
  },
  {
   "cell_type": "code",
   "execution_count": 206,
   "source": [
    "numerador = X_train - X_train.min()\r\n",
    "denominador = X_train.max()-X_train.min()\r\n",
    "X_norm = numerador/denominador"
   ],
   "outputs": [],
   "metadata": {}
  },
  {
   "cell_type": "markdown",
   "source": [
    "Regeneramos los valores de las $y$, para realizar los calculos nuevamente con los valores de $x$ en el rango de [0,1]"
   ],
   "metadata": {}
  },
  {
   "cell_type": "code",
   "execution_count": 184,
   "source": [
    "m_train = int(m*0.8)\r\n",
    "y_norm = 9 + 7 * X_norm + 5 * (X_norm**2)+ 1.5*np.random.randn(m_train,1)"
   ],
   "outputs": [],
   "metadata": {}
  },
  {
   "cell_type": "markdown",
   "source": [
    "Matriz de los elemntos de $X$ polinomiales"
   ],
   "metadata": {}
  },
  {
   "cell_type": "code",
   "execution_count": 185,
   "source": [
    "X_bnorm = np.c_[np.ones((m_train,1)),X_norm,X_norm**2]\r\n",
    "X_bnorm"
   ],
   "outputs": [
    {
     "output_type": "execute_result",
     "data": {
      "text/plain": [
       "array([[1.        , 0.59179043, 0.35021591],\n",
       "       [1.        , 0.61538332, 0.37869664],\n",
       "       [1.        , 0.49906913, 0.24907   ],\n",
       "       ...,\n",
       "       [1.        , 0.78990177, 0.6239448 ],\n",
       "       [1.        , 0.24602032, 0.060526  ],\n",
       "       [1.        , 0.84473457, 0.71357649]])"
      ]
     },
     "metadata": {},
     "execution_count": 185
    }
   ],
   "metadata": {}
  },
  {
   "cell_type": "markdown",
   "source": [
    "Obtenemos el valor de los coeficientes $\\theta$"
   ],
   "metadata": {}
  },
  {
   "cell_type": "code",
   "execution_count": 186,
   "source": [
    "theta_norm = np.linalg.inv(X_bnorm.T @ X_bnorm) @ X_bnorm.T @ y_norm\r\n",
    "theta_norm"
   ],
   "outputs": [
    {
     "output_type": "execute_result",
     "data": {
      "text/plain": [
       "array([[9.03945385],\n",
       "       [6.91797041],\n",
       "       [5.01487184]])"
      ]
     },
     "metadata": {},
     "execution_count": 186
    }
   ],
   "metadata": {}
  },
  {
   "cell_type": "markdown",
   "source": [
    "Realizamos las pruebas con el dataset de $X$ _ $test$"
   ],
   "metadata": {}
  },
  {
   "cell_type": "code",
   "execution_count": 187,
   "source": [
    "y_norm_predict = theta_norm[0]+theta_norm[1]*X_test+theta_norm[2]*X_test**2"
   ],
   "outputs": [],
   "metadata": {}
  },
  {
   "cell_type": "markdown",
   "source": [
    "Métricas de laregresión, Coeficiente de determinación y MSE"
   ],
   "metadata": {}
  },
  {
   "cell_type": "code",
   "execution_count": 208,
   "source": [
    "from sklearn.metrics import r2_score \r\n",
    "from sklearn.metrics import mean_squared_error\r\n",
    "r2 = r2_score(y_test,y_norm_predict)\r\n",
    "mse = mean_squared_error(y_test,y_norm_predict)\r\n",
    "print('r2=',r2,'MSE=',mse)"
   ],
   "outputs": [
    {
     "output_type": "stream",
     "name": "stdout",
     "text": [
      "r2= 0.9978514722927798 MSE= 2.233880869413482\n"
     ]
    }
   ],
   "metadata": {}
  },
  {
   "cell_type": "markdown",
   "source": [
    "## Probando de forma directa con los resultados y valores de la nube de puntos de forma original."
   ],
   "metadata": {}
  },
  {
   "cell_type": "code",
   "execution_count": 190,
   "source": [
    "X_b = np.c_[np.ones((m_train,1)),X_train,X_train**2]\r\n",
    "X_b"
   ],
   "outputs": [
    {
     "output_type": "execute_result",
     "data": {
      "text/plain": [
       "array([[ 1.        ,  2.36740676,  5.60461477],\n",
       "       [ 1.        ,  2.46176284,  6.06027629],\n",
       "       [ 1.        ,  1.99658253,  3.98634181],\n",
       "       ...,\n",
       "       [ 1.        ,  3.15972189,  9.98384245],\n",
       "       [ 1.        ,  0.98455363,  0.96934584],\n",
       "       [ 1.        ,  3.37901704, 11.41775616]])"
      ]
     },
     "metadata": {},
     "execution_count": 190
    }
   ],
   "metadata": {}
  },
  {
   "cell_type": "markdown",
   "source": [
    "Calculamos los valores de los coeficientes $\\theta$"
   ],
   "metadata": {}
  },
  {
   "cell_type": "code",
   "execution_count": 191,
   "source": [
    "theta = np.linalg.inv(X_b.T @ X_b) @ X_b.T @ y_train\r\n",
    "theta"
   ],
   "outputs": [
    {
     "output_type": "execute_result",
     "data": {
      "text/plain": [
       "array([[9.00399669],\n",
       "       [7.01696563],\n",
       "       [4.99477762]])"
      ]
     },
     "metadata": {},
     "execution_count": 191
    }
   ],
   "metadata": {}
  },
  {
   "cell_type": "markdown",
   "source": [
    "Generamos las predicciones de $y$ con el las $x$ de prueba"
   ],
   "metadata": {}
  },
  {
   "cell_type": "code",
   "execution_count": 209,
   "source": [
    "y_predict = theta[0]+theta[1]*X_test+theta[2]*X_test**2"
   ],
   "outputs": [],
   "metadata": {}
  },
  {
   "cell_type": "markdown",
   "source": [
    "Métricas de laregresión, Coeficiente de determinación y MSE"
   ],
   "metadata": {}
  },
  {
   "cell_type": "code",
   "execution_count": 211,
   "source": [
    "r2 = r2_score(y_test,y_predict)\r\n",
    "mse = mean_squared_error(y_test,y_predict)\r\n",
    "print('r2=',r2,'MSE=',mse)"
   ],
   "outputs": [
    {
     "output_type": "stream",
     "name": "stdout",
     "text": [
      "r2= 0.9978525891565503 MSE= 2.2327196367227735\n"
     ]
    }
   ],
   "metadata": {}
  },
  {
   "cell_type": "markdown",
   "source": [
    "## Gráficamos el modelo de predicción"
   ],
   "metadata": {}
  },
  {
   "cell_type": "code",
   "execution_count": 212,
   "source": [
    "X_new = np.arange(0,4,0.1) #predicciones para generar la línea del modelo\r\n",
    "X_new_2 = np.array(X_new)**2\r\n",
    "X_new_b = np.c_[np.ones((len(X_new),1)),X_new,X_new_2]\r\n",
    "X_new_b\r\n",
    "y_predict = X_new_b @ theta"
   ],
   "outputs": [],
   "metadata": {}
  },
  {
   "cell_type": "code",
   "execution_count": 213,
   "source": [
    "plt.plot(X,y,\"b.\")\r\n",
    "plt.plot(X_new,y_predict,'r-',linewidth=2,label='prediction')\r\n",
    "plt.xlabel(r'$X_1$',fontsize=14)\r\n",
    "plt.ylabel(r'$Y$',fontsize=14,rotation=0)\r\n",
    "plt.legend()\r\n",
    "plt.axis([0,4,0,125])\r\n",
    "plt.grid(True)\r\n",
    "plt.show()"
   ],
   "outputs": [
    {
     "output_type": "display_data",
     "data": {
      "image/png": "[encoded data removed]",
      "text/plain": [
       "<Figure size 432x288 with 1 Axes>"
      ]
     },
     "metadata": {
      "needs_background": "light"
     }
    }
   ],
   "metadata": {}
  },
  {
   "cell_type": "markdown",
   "source": [
    "# Usando la librería de Sklearn"
   ],
   "metadata": {}
  },
  {
   "cell_type": "code",
   "execution_count": 198,
   "source": [
    "from sklearn.linear_model import LinearRegression\r\n",
    "from sklearn.preprocessing import PolynomialFeatures\r\n",
    "from sklearn import linear_model"
   ],
   "outputs": [],
   "metadata": {}
  },
  {
   "cell_type": "markdown",
   "source": [
    "Aqui hacemos uso de la librería de PolynomialFeatures para conseguir la matriz de valores de x de una forma un poco más general, ya que podemos aplicar siempre estas líneas de codigo sin importar la cantidad de variables que tengamos"
   ],
   "metadata": {}
  },
  {
   "cell_type": "code",
   "execution_count": 199,
   "source": [
    "poly = PolynomialFeatures(degree = 2)\r\n",
    "X_poly = poly.fit_transform(X_train)\r\n",
    "X_poly"
   ],
   "outputs": [
    {
     "output_type": "execute_result",
     "data": {
      "text/plain": [
       "array([[ 1.        ,  2.36740676,  5.60461477],\n",
       "       [ 1.        ,  2.46176284,  6.06027629],\n",
       "       [ 1.        ,  1.99658253,  3.98634181],\n",
       "       ...,\n",
       "       [ 1.        ,  3.15972189,  9.98384245],\n",
       "       [ 1.        ,  0.98455363,  0.96934584],\n",
       "       [ 1.        ,  3.37901704, 11.41775616]])"
      ]
     },
     "metadata": {},
     "execution_count": 199
    }
   ],
   "metadata": {}
  },
  {
   "cell_type": "markdown",
   "source": [
    "Ajustamos nuestro modelo y obtenemos nuestros resultados. De los coeficientes $\\theta$"
   ],
   "metadata": {}
  },
  {
   "cell_type": "code",
   "execution_count": 200,
   "source": [
    "model = linear_model.LinearRegression()\r\n",
    "model = model.fit(X_poly,y_train)\r\n",
    "coeficiente = model.coef_\r\n",
    "intercepto = model.intercept_\r\n",
    "print(intercepto,coeficiente[0,1:])"
   ],
   "outputs": [
    {
     "output_type": "stream",
     "name": "stdout",
     "text": [
      "[9.00399669] [7.01696563 4.99477762]\n"
     ]
    }
   ],
   "metadata": {}
  },
  {
   "cell_type": "markdown",
   "source": [
    "Generemos un vector de predicciones con la intención de graficar y poder observar el modelo de predicción"
   ],
   "metadata": {}
  },
  {
   "cell_type": "code",
   "execution_count": 202,
   "source": [
    "x_axis = np.arange(0,4,0.1)\r\n",
    "y_new_predict = intercepto + coeficiente[0,1] * x_axis + coeficiente[0,2] *x_axis**2"
   ],
   "outputs": [],
   "metadata": {}
  },
  {
   "cell_type": "markdown",
   "source": [
    "Graficamos los resultados"
   ],
   "metadata": {}
  },
  {
   "cell_type": "code",
   "execution_count": 203,
   "source": [
    "plt.plot(X,y,\"b.\")\r\n",
    "plt.plot(x_axis,y_new_predict,'g-',linewidth=2,label='prediction')\r\n",
    "plt.xlabel(r'$X_1$',fontsize=14)\r\n",
    "plt.ylabel(r'$Y$',fontsize=14,rotation=0)\r\n",
    "plt.legend()\r\n",
    "plt.axis([0,4,0,125])\r\n",
    "plt.grid(True)\r\n",
    "plt.show()"
   ],
   "outputs": [
    {
     "output_type": "display_data",
     "data": {
      "image/png": "[encoded data removed]",
      "text/plain": [
       "<Figure size 432x288 with 1 Axes>"
      ]
     },
     "metadata": {
      "needs_background": "light"
     }
    }
   ],
   "metadata": {}
  },
  {
   "cell_type": "markdown",
   "source": [
    "Para determinar que tan efectivo es nuestro modelo. Generamos las predicciones que corresponden a los valores de $y$ para $x$"
   ],
   "metadata": {}
  },
  {
   "cell_type": "code",
   "execution_count": 214,
   "source": [
    "x_axis = X_test\r\n",
    "y_new_predict = intercepto + coeficiente[0,1] * x_axis + coeficiente[0,2] *x_axis**2"
   ],
   "outputs": [],
   "metadata": {}
  },
  {
   "cell_type": "markdown",
   "source": [
    "Métricas de laregresión, Coeficiente de determinación y MSE"
   ],
   "metadata": {}
  },
  {
   "cell_type": "code",
   "execution_count": 215,
   "source": [
    "r2 = r2_score(y_test,y_new_predict)\r\n",
    "mse = mean_squared_error(y_test,y_new_predict)\r\n",
    "print('r2=',r2,'MSE=',mse)"
   ],
   "outputs": [
    {
     "output_type": "stream",
     "name": "stdout",
     "text": [
      "r2= 0.9978525891565503 MSE= 2.2327196367227717\n"
     ]
    }
   ],
   "metadata": {}
  },
  {
   "cell_type": "markdown",
   "source": [
    "Observamos que parece que el resultado del modelo de sklearn es similar al modelo que generamos con los datos generados de forma aleatoria, sin acomodarlos en el rango de [0,1]"
   ],
   "metadata": {}
  }
 ],
 "metadata": {
  "orig_nbformat": 4,
  "language_info": {
   "name": "python",
   "version": "3.8.8",
   "mimetype": "text/x-python",
   "codemirror_mode": {
    "name": "ipython",
    "version": 3
   },
   "pygments_lexer": "ipython3",
   "nbconvert_exporter": "python",
   "file_extension": ".py"
  },
  "kernelspec": {
   "name": "python3",
   "display_name": "Python 3.8.8 64-bit ('base': conda)"
  },
  "interpreter": {
   "hash": "573a5c7e7f6b69a982819e50b3614ba2e70da23418480f96bebec1796dfd44fd"
  }
 },
 "nbformat": 4,
 "nbformat_minor": 2
}