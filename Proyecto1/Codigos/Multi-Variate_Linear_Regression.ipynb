{
 "cells": [
  {
   "cell_type": "markdown",
   "id": "cfb5243f",
   "metadata": {},
   "source": [
    "# Multi-Variate Linear Regression Methods\n",
    "**En esta notebook se implementan diferentes métodos de regresión lineal multivariable**\n",
    "\n",
    "Los algoritmos implementados son:\n",
    "- Batch Gradient Descent\n",
    "- Stochastic Gradient Descent\n",
    "- Mini-Batch Gradient Descent\n",
    "\n",
    "\n",
    "**Trabajo por:**\n",
    "- Luis Izquierdo Berdugo\n",
    "- Jorge Orozco Poot\n",
    "- Nicolás Sánchez Franco\n",
    "- Leonardo Zurita Martínez"
   ]
  },
  {
   "cell_type": "code",
   "execution_count": 79,
   "id": "f4295681",
   "metadata": {},
   "outputs": [],
   "source": [
    "import pandas as pd\n",
    "import numpy as np\n",
    "import matplotlib.pyplot as plt"
   ]
  },
  {
   "cell_type": "markdown",
   "id": "183e3a28",
   "metadata": {},
   "source": [
    "### Primero se creará el dataframe para utilizar los datos"
   ]
  },
  {
   "cell_type": "code",
   "execution_count": 80,
   "id": "85941f9f",
   "metadata": {},
   "outputs": [
    {
     "data": {
      "text/html": [
       "<div>\n",
       "<style scoped>\n",
       "    .dataframe tbody tr th:only-of-type {\n",
       "        vertical-align: middle;\n",
       "    }\n",
       "\n",
       "    .dataframe tbody tr th {\n",
       "        vertical-align: top;\n",
       "    }\n",
       "\n",
       "    .dataframe thead th {\n",
       "        text-align: right;\n",
       "    }\n",
       "</style>\n",
       "<table border=\"1\" class=\"dataframe\">\n",
       "  <thead>\n",
       "    <tr style=\"text-align: right;\">\n",
       "      <th></th>\n",
       "      <th>age</th>\n",
       "      <th>sex</th>\n",
       "      <th>bmi</th>\n",
       "      <th>children</th>\n",
       "      <th>smoker</th>\n",
       "      <th>region</th>\n",
       "      <th>charges</th>\n",
       "    </tr>\n",
       "  </thead>\n",
       "  <tbody>\n",
       "    <tr>\n",
       "      <th>0</th>\n",
       "      <td>19</td>\n",
       "      <td>1</td>\n",
       "      <td>27.900</td>\n",
       "      <td>0</td>\n",
       "      <td>1</td>\n",
       "      <td>1</td>\n",
       "      <td>16884.92400</td>\n",
       "    </tr>\n",
       "    <tr>\n",
       "      <th>1</th>\n",
       "      <td>18</td>\n",
       "      <td>2</td>\n",
       "      <td>33.770</td>\n",
       "      <td>1</td>\n",
       "      <td>2</td>\n",
       "      <td>2</td>\n",
       "      <td>1725.55230</td>\n",
       "    </tr>\n",
       "    <tr>\n",
       "      <th>2</th>\n",
       "      <td>28</td>\n",
       "      <td>2</td>\n",
       "      <td>33.000</td>\n",
       "      <td>3</td>\n",
       "      <td>2</td>\n",
       "      <td>2</td>\n",
       "      <td>4449.46200</td>\n",
       "    </tr>\n",
       "    <tr>\n",
       "      <th>3</th>\n",
       "      <td>33</td>\n",
       "      <td>2</td>\n",
       "      <td>22.705</td>\n",
       "      <td>0</td>\n",
       "      <td>2</td>\n",
       "      <td>3</td>\n",
       "      <td>21984.47061</td>\n",
       "    </tr>\n",
       "    <tr>\n",
       "      <th>4</th>\n",
       "      <td>32</td>\n",
       "      <td>2</td>\n",
       "      <td>28.880</td>\n",
       "      <td>0</td>\n",
       "      <td>2</td>\n",
       "      <td>3</td>\n",
       "      <td>3866.85520</td>\n",
       "    </tr>\n",
       "  </tbody>\n",
       "</table>\n",
       "</div>"
      ],
      "text/plain": [
       "   age  sex     bmi  children  smoker  region      charges\n",
       "0   19    1  27.900         0       1       1  16884.92400\n",
       "1   18    2  33.770         1       2       2   1725.55230\n",
       "2   28    2  33.000         3       2       2   4449.46200\n",
       "3   33    2  22.705         0       2       3  21984.47061\n",
       "4   32    2  28.880         0       2       3   3866.85520"
      ]
     },
     "execution_count": 80,
     "metadata": {},
     "output_type": "execute_result"
    }
   ],
   "source": [
    "df = pd.read_csv('insurance.csv')\n",
    "df.sex.replace(('female', 'male'),(1,2), inplace = True)\n",
    "df.smoker.replace(('yes', 'no'),(1,2), inplace = True)\n",
    "df.region.replace(('southwest', 'southeast', 'northwest', 'northeast'),(1,2,3,4), inplace = True)\n",
    "df.head()"
   ]
  },
  {
   "cell_type": "code",
   "execution_count": 81,
   "id": "2bfe0c9f",
   "metadata": {},
   "outputs": [],
   "source": [
    "X = df.values[:, 0:6] #Valores de las columnas de datos\n",
    "Y = df.values[:, 6] #Valor del output deseado"
   ]
  },
  {
   "cell_type": "markdown",
   "id": "11d926e1",
   "metadata": {},
   "source": [
    "### Se continuará con con la normalización de los datos"
   ]
  },
  {
   "cell_type": "code",
   "execution_count": 82,
   "id": "334f7c1e",
   "metadata": {},
   "outputs": [],
   "source": [
    "def normalization(x):\n",
    "    mu = np.mean(x, axis = 0)\n",
    "    sigma = np.std(x, axis = 0, ddof = 1)\n",
    "    x_normalizada = (x - mu) / sigma\n",
    "    return x_normalizada, mu, sigma"
   ]
  },
  {
   "cell_type": "code",
   "execution_count": 83,
   "id": "2f7df9a1",
   "metadata": {},
   "outputs": [],
   "source": [
    "X, mu, sigma = normalization(X)"
   ]
  },
  {
   "cell_type": "markdown",
   "id": "b3c848a7",
   "metadata": {},
   "source": [
    "### Se efectúa el cálculo de la pérdida o costo por medio del error cuadrático medio"
   ]
  },
  {
   "cell_type": "code",
   "execution_count": 84,
   "id": "caf05e00",
   "metadata": {},
   "outputs": [],
   "source": [
    "def calcular_perdida(x, y, theta):\n",
    "    predict = x.dot(theta)\n",
    "    error = np.subtract(predict, y)\n",
    "    J = 1/(2*m_train) * error.T.dot(error)\n",
    "    return J"
   ]
  },
  {
   "cell_type": "markdown",
   "id": "cfa173b4",
   "metadata": {},
   "source": [
    "# BGD\n",
    "### Se crea la función para usar el método de Batch Gradient Descent"
   ]
  },
  {
   "cell_type": "code",
   "execution_count": 85,
   "id": "695976c1",
   "metadata": {},
   "outputs": [],
   "source": [
    "def gradient_descent(x, y, theta, alpha, iterations):\n",
    "    hist_perdida = np.zeros(iterations)\n",
    "    for i in range(iterations):\n",
    "        pred = x.dot(theta)\n",
    "        error = np.subtract(pred, y)\n",
    "        delta = (alpha/m_train) * x.transpose().dot(error)\n",
    "        theta = theta - delta\n",
    "        hist_perdida[i] = calcular_perdida(x, y, theta)\n",
    "    return theta, hist_perdida"
   ]
  },
  {
   "cell_type": "markdown",
   "id": "713fdcb0",
   "metadata": {},
   "source": [
    "### Se importa la librería sklearn para hacer la división de datos de entrenamiento y de prueba"
   ]
  },
  {
   "cell_type": "code",
   "execution_count": 86,
   "id": "ee39e237",
   "metadata": {},
   "outputs": [],
   "source": [
    "from sklearn.model_selection import train_test_split"
   ]
  },
  {
   "cell_type": "code",
   "execution_count": 87,
   "id": "24e21924",
   "metadata": {},
   "outputs": [],
   "source": [
    "X_train, X_test, y_train, y_test = train_test_split(X, Y, test_size=0.20, random_state=101)\n",
    "m_train = X_train.shape[0]\n",
    "m_test = X_test.shape[0]"
   ]
  },
  {
   "cell_type": "markdown",
   "id": "cffa5587",
   "metadata": {},
   "source": [
    "### Se declaran las iteraciones, el alpha (ratio de aprendizaje) y un arreglo de zeros para iniciar el de theta\n",
    "#### Se inicia la función"
   ]
  },
  {
   "cell_type": "code",
   "execution_count": 88,
   "id": "20b857d9",
   "metadata": {},
   "outputs": [],
   "source": [
    "theta = np.zeros(X_train.shape[1])\n",
    "iterations = 5000\n",
    "alpha = 0.001\n",
    "\n",
    "th_n, hist_perdida = gradient_descent(X_train, y_train, theta, alpha, iterations)"
   ]
  },
  {
   "cell_type": "markdown",
   "id": "db855f01",
   "metadata": {},
   "source": [
    "### Se grafica el historial de pérdida o costo, este debería disminuir conforme aumentan las iteraciones"
   ]
  },
  {
   "cell_type": "code",
   "execution_count": 89,
   "id": "61231956",
   "metadata": {
    "scrolled": true
   },
   "outputs": [
    {
     "data": {
      "text/plain": [
       "Text(0, 0.5, 'Pérdida (J)')"
      ]
     },
     "execution_count": 89,
     "metadata": {},
     "output_type": "execute_result"
    },
    {
     "data": {
      "image/png": "[encoded data removed]",
      "text/plain": [
       "<Figure size 720x432 with 1 Axes>"
      ]
     },
     "metadata": {
      "needs_background": "light"
     },
     "output_type": "display_data"
    }
   ],
   "source": [
    "plt.plot(range(1, iterations +1), hist_perdida, color ='blue')\n",
    "plt.rcParams[\"figure.figsize\"] = (10,6)\n",
    "plt.grid()\n",
    "plt.xlabel(\"Iteraciones\")\n",
    "plt.ylabel(\"Pérdida (J)\")"
   ]
  },
  {
   "cell_type": "markdown",
   "id": "0c4bc159",
   "metadata": {},
   "source": [
    "### Se grafica la comparación entre los datos reales y la predicción"
   ]
  },
  {
   "cell_type": "code",
   "execution_count": 90,
   "id": "550e832b",
   "metadata": {},
   "outputs": [
    {
     "data": {
      "image/png": "[encoded data removed]",
      "text/plain": [
       "<Figure size 720x432 with 1 Axes>"
      ]
     },
     "metadata": {
      "needs_background": "light"
     },
     "output_type": "display_data"
    }
   ],
   "source": [
    "pred = X_test.dot(th_n)\n",
    "plt.scatter(pred, y_test)\n",
    "plt.ylabel('Datos')\n",
    "plt.xlabel('Predicción')\n",
    "plt.grid(True)\n",
    "plt.show()"
   ]
  },
  {
   "cell_type": "markdown",
   "id": "e9a3723e",
   "metadata": {},
   "source": [
    "# SGD\n",
    "### Se crea una función para definir el learning rate."
   ]
  },
  {
   "cell_type": "code",
   "execution_count": 116,
   "id": "d2fd623d",
   "metadata": {},
   "outputs": [],
   "source": [
    "t0,t1 = 5,50\n",
    "def learning_schedule(t):\n",
    "    return t0/(t+t1)"
   ]
  },
  {
   "cell_type": "markdown",
   "id": "7fbcdfdd",
   "metadata": {},
   "source": [
    "### Se crea la función para usar el método de Stochastic Gradient Descent"
   ]
  },
  {
   "cell_type": "code",
   "execution_count": 117,
   "id": "82ddb58f",
   "metadata": {},
   "outputs": [],
   "source": [
    "def SGD(X,y,theta,n_epochs=50):\n",
    "    c_hist = [0] * n_epochs\n",
    "    for epoch in range(n_epochs):\n",
    "        for i in range(len(y)):\n",
    "            rand_index = np.random.randint(len(y))\n",
    "            ind_x = X[rand_index:rand_index+1]\n",
    "            ind_y = y[rand_index:rand_index+1]\n",
    "            gradients = 2 * ind_x.T.dot(ind_x.dot(theta) - ind_y)\n",
    "            eta = learning_schedule(epoch * len(y) + i)\n",
    "            theta = theta - eta * gradients\n",
    "            c_hist[epoch] = calcular_perdida(ind_x,ind_y,theta)\n",
    "    return theta,c_hist"
   ]
  },
  {
   "cell_type": "markdown",
   "id": "a205081d",
   "metadata": {},
   "source": [
    "### Se declara el arreglo de thetas para iniciar y se ejecuta la función con nuestros datos"
   ]
  },
  {
   "cell_type": "code",
   "execution_count": 118,
   "id": "4f9c4e7e",
   "metadata": {},
   "outputs": [],
   "source": [
    "thetas = np.zeros(X_train.shape[1])\n",
    "th_n,cost_history = SGD(X_train,y_train,thetas)"
   ]
  },
  {
   "cell_type": "markdown",
   "id": "c75f5da8",
   "metadata": {},
   "source": [
    "### Se grafica el historial de pérdida o costo, este debería disminuir conforme aumentan las iteraciones"
   ]
  },
  {
   "cell_type": "code",
   "execution_count": 119,
   "id": "002e5bc2",
   "metadata": {},
   "outputs": [
    {
     "data": {
      "text/plain": [
       "Text(0, 0.5, 'Pérdida (J)')"
      ]
     },
     "execution_count": 119,
     "metadata": {},
     "output_type": "execute_result"
    },
    {
     "data": {
      "image/png": "[encoded data removed]",
      "text/plain": [
       "<Figure size 720x432 with 1 Axes>"
      ]
     },
     "metadata": {
      "needs_background": "light"
     },
     "output_type": "display_data"
    }
   ],
   "source": [
    "plt.plot(range(5000), hist_perdida, color ='blue')\n",
    "plt.rcParams[\"figure.figsize\"] = (10,6)\n",
    "plt.grid()\n",
    "plt.xlabel(\"Iteraciones\")\n",
    "plt.ylabel(\"Pérdida (J)\")"
   ]
  },
  {
   "cell_type": "markdown",
   "id": "92ae6a0a",
   "metadata": {},
   "source": [
    "### Se grafica la comparación entre los datos reales y la predicción"
   ]
  },
  {
   "cell_type": "code",
   "execution_count": 121,
   "id": "1120060c",
   "metadata": {
    "scrolled": true
   },
   "outputs": [
    {
     "data": {
      "image/png": "[encoded data removed]",
      "text/plain": [
       "<Figure size 720x432 with 1 Axes>"
      ]
     },
     "metadata": {
      "needs_background": "light"
     },
     "output_type": "display_data"
    }
   ],
   "source": [
    "pred = X_test.dot(th_n)\n",
    "plt.scatter(pred, y_test)\n",
    "plt.ylabel('Datos')\n",
    "plt.xlabel('Predicción')\n",
    "plt.grid(True)\n",
    "plt.show()"
   ]
  },
  {
   "cell_type": "markdown",
   "id": "7dc93293",
   "metadata": {},
   "source": [
    "# MBGD\n",
    "### Se crea la función para el Mini-Batch Gradient Descent"
   ]
  },
  {
   "cell_type": "code",
   "execution_count": 123,
   "id": "c0a39266",
   "metadata": {},
   "outputs": [],
   "source": [
    "def MBGD(X,y,theta,n_epochs=50, batch_size = 40):\n",
    "    c_hist = [0] * n_epochs\n",
    "    for epoch in range(n_epochs):\n",
    "        for i in range(0,m,batch_size):\n",
    "            ind_x = X[i:i+batch_size,:]\n",
    "            ind_y = y[i:i+batch_size]\n",
    "            gradients = (1/m) * ind_x_.T @ (ind_x @ theta - ind_y)\n",
    "            eta = learning_schedule(epoch * len(y) + i)\n",
    "            theta = theta - eta * gradients\n",
    "            c_hist[epoch] = calcular_perdida(ind_x,ind_y,theta)\n",
    "    return theta,c_hist"
   ]
  },
  {
   "cell_type": "markdown",
   "id": "6794d9ef",
   "metadata": {},
   "source": [
    "### Se declara el arreglo de thetas para iniciar y se ejecuta la función con nuestros datos"
   ]
  },
  {
   "cell_type": "code",
   "execution_count": 125,
   "id": "3e004bd0",
   "metadata": {},
   "outputs": [],
   "source": [
    "thetas = np.zeros(X_train.shape[1])\n",
    "th_n,cost_history = SGD(X_train,y_train,thetas)"
   ]
  },
  {
   "cell_type": "markdown",
   "id": "2bf7f464",
   "metadata": {},
   "source": [
    "### Se grafica el historial de pérdida o costo, este debería disminuir conforme aumentan las iteraciones"
   ]
  },
  {
   "cell_type": "code",
   "execution_count": 126,
   "id": "c0428599",
   "metadata": {
    "scrolled": true
   },
   "outputs": [
    {
     "data": {
      "text/plain": [
       "Text(0, 0.5, 'Pérdida (J)')"
      ]
     },
     "execution_count": 126,
     "metadata": {},
     "output_type": "execute_result"
    },
    {
     "data": {
      "image/png": "[encoded data removed]",
      "text/plain": [
       "<Figure size 720x432 with 1 Axes>"
      ]
     },
     "metadata": {
      "needs_background": "light"
     },
     "output_type": "display_data"
    }
   ],
   "source": [
    "plt.plot(range(5000), hist_perdida, color ='blue')\n",
    "plt.rcParams[\"figure.figsize\"] = (10,6)\n",
    "plt.grid()\n",
    "plt.xlabel(\"Iteraciones\")\n",
    "plt.ylabel(\"Pérdida (J)\")"
   ]
  },
  {
   "cell_type": "markdown",
   "id": "d7ff6411",
   "metadata": {},
   "source": [
    "### Se grafica la comparación entre los datos reales y la predicción"
   ]
  },
  {
   "cell_type": "code",
   "execution_count": 127,
   "id": "81c3f7e5",
   "metadata": {
    "scrolled": true
   },
   "outputs": [
    {
     "data": {
      "image/png": "[encoded data removed]",
      "text/plain": [
       "<Figure size 720x432 with 1 Axes>"
      ]
     },
     "metadata": {
      "needs_background": "light"
     },
     "output_type": "display_data"
    }
   ],
   "source": [
    "pred = X_test.dot(th_n)\n",
    "plt.scatter(pred, y_test)\n",
    "plt.ylabel('Datos')\n",
    "plt.xlabel('Predicción')\n",
    "plt.grid(True)\n",
    "plt.show()"
   ]
  }
 ],
 "metadata": {
  "kernelspec": {
   "display_name": "Python 3",
   "language": "python",
   "name": "python3"
  },
  "language_info": {
   "codemirror_mode": {
    "name": "ipython",
    "version": 3
   },
   "file_extension": ".py",
   "mimetype": "text/x-python",
   "name": "python",
   "nbconvert_exporter": "python",
   "pygments_lexer": "ipython3",
   "version": "3.8.8"
  }
 },
 "nbformat": 4,
 "nbformat_minor": 5
}
